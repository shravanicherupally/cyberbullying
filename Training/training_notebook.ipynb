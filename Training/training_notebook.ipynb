{
 "cells": [
  {
   "cell_type": "code",
   "execution_count": 11,
   "id": "5a6335a9",
   "metadata": {},
   "outputs": [
    {
     "name": "stdout",
     "output_type": "stream",
     "text": [
      "✅ Libraries imported.\n"
     ]
    }
   ],
   "source": [
    "# 📌 ⿡ IMPORT LIBRARIES\n",
    "# =======================================\n",
    "import pandas as pd\n",
    "import numpy as np\n",
    "\n",
    "from sklearn.feature_extraction.text import TfidfVectorizer\n",
    "from sklearn.model_selection import train_test_split\n",
    "from sklearn.linear_model import LogisticRegression\n",
    "from sklearn.svm import SVC\n",
    "from sklearn.ensemble import RandomForestClassifier, AdaBoostClassifier, GradientBoostingClassifier\n",
    "\n",
    "from sklearn.metrics import accuracy_score, classification_report\n",
    "from scipy.sparse import hstack\n",
    "\n",
    "print(\"✅ Libraries imported.\")\n"
   ]
  },
  {
   "cell_type": "code",
   "execution_count": 12,
   "id": "eda1965e",
   "metadata": {},
   "outputs": [
    {
     "name": "stdout",
     "output_type": "stream",
     "text": [
      "✅ Data loaded.\n",
      "X_train: (12, 2), X_test: (4, 2)\n"
     ]
    }
   ],
   "source": [
    "# 📌 ⿢ LOAD PREPROCESSED DATA\n",
    "# =======================================\n",
    "X_train = pd.read_csv('../Data/X_train.csv')\n",
    "X_test = pd.read_csv('../Data/X_test.csv')\n",
    "y_train = pd.read_csv('../Data/y_train.csv').values.ravel()\n",
    "y_test = pd.read_csv('../Data/y_test.csv').values.ravel()\n",
    "\n",
    "print(\"✅ Data loaded.\")\n",
    "print(f\"X_train: {X_train.shape}, X_test: {X_test.shape}\")\n",
    "\n"
   ]
  },
  {
   "cell_type": "code",
   "execution_count": 13,
   "id": "72ec838b",
   "metadata": {},
   "outputs": [
    {
     "name": "stdout",
     "output_type": "stream",
     "text": [
      "✅ Vectorization done.\n",
      "Vectorized shape: (12, 28)\n"
     ]
    }
   ],
   "source": [
    "# 📌 ⿣ VECTORIZER (TF-IDF)\n",
    "# =======================================\n",
    "vectorizer = TfidfVectorizer(max_features=5000)\n",
    "X_train_vec = vectorizer.fit_transform(X_train['clean_comment'])\n",
    "X_test_vec = vectorizer.transform(X_test['clean_comment'])\n",
    "\n",
    "# Add platform feature\n",
    "X_train_final = hstack((X_train_vec, np.array(X_train['platform_encoded']).reshape(-1, 1)))\n",
    "X_test_final = hstack((X_test_vec, np.array(X_test['platform_encoded']).reshape(-1, 1)))\n",
    "\n",
    "print(\"✅ Vectorization done.\")\n",
    "print(f\"Vectorized shape: {X_train_final.shape}\")\n"
   ]
  },
  {
   "cell_type": "code",
   "execution_count": 14,
   "id": "2c83affd",
   "metadata": {},
   "outputs": [
    {
     "name": "stdout",
     "output_type": "stream",
     "text": [
      "\n",
      "✅ Logistic Regression\n",
      "Accuracy: 0.2500\n",
      "              precision    recall  f1-score   support\n",
      "\n",
      "           0       0.00      0.00      0.00         2\n",
      "           1       0.33      0.50      0.40         2\n",
      "\n",
      "    accuracy                           0.25         4\n",
      "   macro avg       0.17      0.25      0.20         4\n",
      "weighted avg       0.17      0.25      0.20         4\n",
      "\n",
      "\n",
      "✅ SVM\n",
      "Accuracy: 0.2500\n",
      "              precision    recall  f1-score   support\n",
      "\n",
      "           0       0.00      0.00      0.00         2\n",
      "           1       0.33      0.50      0.40         2\n",
      "\n",
      "    accuracy                           0.25         4\n",
      "   macro avg       0.17      0.25      0.20         4\n",
      "weighted avg       0.17      0.25      0.20         4\n",
      "\n",
      "\n",
      "✅ Random Forest\n",
      "Accuracy: 0.5000\n",
      "              precision    recall  f1-score   support\n",
      "\n",
      "           0       0.50      1.00      0.67         2\n",
      "           1       0.00      0.00      0.00         2\n",
      "\n",
      "    accuracy                           0.50         4\n",
      "   macro avg       0.25      0.50      0.33         4\n",
      "weighted avg       0.25      0.50      0.33         4\n",
      "\n"
     ]
    },
    {
     "name": "stderr",
     "output_type": "stream",
     "text": [
      "c:\\Users\\shiva\\anaconda3\\envs\\project_06\\lib\\site-packages\\sklearn\\metrics\\_classification.py:1706: UndefinedMetricWarning: Precision is ill-defined and being set to 0.0 in labels with no predicted samples. Use `zero_division` parameter to control this behavior.\n",
      "  _warn_prf(average, modifier, f\"{metric.capitalize()} is\", result.shape[0])\n",
      "c:\\Users\\shiva\\anaconda3\\envs\\project_06\\lib\\site-packages\\sklearn\\metrics\\_classification.py:1706: UndefinedMetricWarning: Precision is ill-defined and being set to 0.0 in labels with no predicted samples. Use `zero_division` parameter to control this behavior.\n",
      "  _warn_prf(average, modifier, f\"{metric.capitalize()} is\", result.shape[0])\n",
      "c:\\Users\\shiva\\anaconda3\\envs\\project_06\\lib\\site-packages\\sklearn\\metrics\\_classification.py:1706: UndefinedMetricWarning: Precision is ill-defined and being set to 0.0 in labels with no predicted samples. Use `zero_division` parameter to control this behavior.\n",
      "  _warn_prf(average, modifier, f\"{metric.capitalize()} is\", result.shape[0])\n"
     ]
    },
    {
     "name": "stdout",
     "output_type": "stream",
     "text": [
      "\n",
      "✅ AdaBoost\n",
      "Accuracy: 0.2500\n",
      "              precision    recall  f1-score   support\n",
      "\n",
      "           0       0.33      0.50      0.40         2\n",
      "           1       0.00      0.00      0.00         2\n",
      "\n",
      "    accuracy                           0.25         4\n",
      "   macro avg       0.17      0.25      0.20         4\n",
      "weighted avg       0.17      0.25      0.20         4\n",
      "\n",
      "\n",
      "✅ Gradient Boosting\n",
      "Accuracy: 0.2500\n",
      "              precision    recall  f1-score   support\n",
      "\n",
      "           0       0.33      0.50      0.40         2\n",
      "           1       0.00      0.00      0.00         2\n",
      "\n",
      "    accuracy                           0.25         4\n",
      "   macro avg       0.17      0.25      0.20         4\n",
      "weighted avg       0.17      0.25      0.20         4\n",
      "\n"
     ]
    }
   ],
   "source": [
    "# 📌 ⿤ TRAIN SUPERVISED MODELS\n",
    "# =======================================\n",
    "\n",
    "# Logistic Regression\n",
    "lr = LogisticRegression(max_iter=1000, class_weight='balanced')\n",
    "lr.fit(X_train_final, y_train)\n",
    "lr_pred = lr.predict(X_test_final)\n",
    "lr_acc = accuracy_score(y_test, lr_pred)\n",
    "print(\"\\n✅ Logistic Regression\")\n",
    "print(f\"Accuracy: {lr_acc:.4f}\")\n",
    "print(classification_report(y_test, lr_pred))\n",
    "\n",
    "# SVM\n",
    "svm = SVC(probability=True, class_weight='balanced')\n",
    "svm.fit(X_train_final, y_train)\n",
    "svm_pred = svm.predict(X_test_final)\n",
    "svm_acc = accuracy_score(y_test, svm_pred)\n",
    "print(\"\\n✅ SVM\")\n",
    "print(f\"Accuracy: {svm_acc:.4f}\")\n",
    "print(classification_report(y_test, svm_pred))\n",
    "\n",
    "# Random Forest\n",
    "rf = RandomForestClassifier(n_estimators=100, random_state=42)\n",
    "rf.fit(X_train_final, y_train)\n",
    "rf_pred = rf.predict(X_test_final)\n",
    "rf_acc = accuracy_score(y_test, rf_pred)\n",
    "print(\"\\n✅ Random Forest\")\n",
    "print(f\"Accuracy: {rf_acc:.4f}\")\n",
    "print(classification_report(y_test, rf_pred))\n",
    "\n",
    "# AdaBoost\n",
    "ada = AdaBoostClassifier(n_estimators=100, random_state=42)\n",
    "ada.fit(X_train_final, y_train)\n",
    "ada_pred = ada.predict(X_test_final)\n",
    "ada_acc = accuracy_score(y_test, ada_pred)\n",
    "print(\"\\n✅ AdaBoost\")\n",
    "print(f\"Accuracy: {ada_acc:.4f}\")\n",
    "print(classification_report(y_test, ada_pred))\n",
    "\n",
    "# Gradient Boosting\n",
    "gb = GradientBoostingClassifier(n_estimators=100, random_state=42)\n",
    "gb.fit(X_train_final, y_train)\n",
    "gb_pred = gb.predict(X_test_final)\n",
    "gb_acc = accuracy_score(y_test, gb_pred)\n",
    "print(\"\\n✅ Gradient Boosting\")\n",
    "print(f\"Accuracy: {gb_acc:.4f}\")\n",
    "print(classification_report(y_test, gb_pred))\n",
    "\n"
   ]
  },
  {
   "cell_type": "code",
   "execution_count": 15,
   "id": "fd998b19",
   "metadata": {},
   "outputs": [
    {
     "name": "stdout",
     "output_type": "stream",
     "text": [
      "\n",
      "✅ All models trained & stored.\n",
      "Stored models:  ['Logistic Regression', 'SVM', 'Random Forest', 'AdaBoost', 'Gradient Boosting']\n"
     ]
    }
   ],
   "source": [
    "# 📌 ⿥ STORE MODELS WITH SCORES\n",
    "# ✅ ✅ ✅ IMPORTANT — this fixes the error!\n",
    "# =======================================\n",
    "models = {\n",
    "    \"Logistic Regression\": (lr, lr_acc),\n",
    "    \"SVM\": (svm, svm_acc),\n",
    "    \"Random Forest\": (rf, rf_acc),\n",
    "    \"AdaBoost\": (ada, ada_acc),\n",
    "    \"Gradient Boosting\": (gb, gb_acc)\n",
    "}\n",
    "\n",
    "print(\"\\n✅ All models trained & stored.\")\n",
    "print(\"Stored models: \", list(models.keys()))"
   ]
  }
 ],
 "metadata": {
  "kernelspec": {
   "display_name": "project_06",
   "language": "python",
   "name": "python3"
  },
  "language_info": {
   "codemirror_mode": {
    "name": "ipython",
    "version": 3
   },
   "file_extension": ".py",
   "mimetype": "text/x-python",
   "name": "python",
   "nbconvert_exporter": "python",
   "pygments_lexer": "ipython3",
   "version": "3.10.18"
  }
 },
 "nbformat": 4,
 "nbformat_minor": 5
}
