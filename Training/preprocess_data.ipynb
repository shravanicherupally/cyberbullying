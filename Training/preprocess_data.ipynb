{
 "cells": [
  {
   "cell_type": "code",
   "execution_count": 18,
   "id": "f0354ba4",
   "metadata": {},
   "outputs": [],
   "source": [
    "import pandas as pd\n",
    "import numpy as np\n",
    "import re\n",
    "import string\n",
    "\n",
    "from sklearn.model_selection import train_test_split\n",
    "from sklearn.preprocessing import LabelEncoder\n"
   ]
  },
  {
   "cell_type": "code",
   "execution_count": 19,
   "id": "68ec536a",
   "metadata": {},
   "outputs": [
    {
     "name": "stdout",
     "output_type": "stream",
     "text": [
      "   id  user_id             comment                        date  platform  \\\n",
      "0   1      328  You are so stupid!  2025-05-17 16:56:30.613829   Twitter   \n",
      "1   2      380   Nobody likes you!  2025-02-23 16:56:30.613829  Facebook   \n",
      "2   3      115       Just shut up!  2025-05-03 16:56:30.613829   Twitter   \n",
      "3   4      347   You're worthless!  2024-10-07 16:56:30.613829   Twitter   \n",
      "4   5      303       Such a loser!  2024-12-09 16:56:30.613829   Twitter   \n",
      "\n",
      "   label  \n",
      "0      1  \n",
      "1      1  \n",
      "2      1  \n",
      "3      1  \n",
      "4      1  \n",
      "<class 'pandas.core.frame.DataFrame'>\n",
      "RangeIndex: 3000 entries, 0 to 2999\n",
      "Data columns (total 6 columns):\n",
      " #   Column    Non-Null Count  Dtype \n",
      "---  ------    --------------  ----- \n",
      " 0   id        3000 non-null   int64 \n",
      " 1   user_id   3000 non-null   int64 \n",
      " 2   comment   3000 non-null   object\n",
      " 3   date      3000 non-null   object\n",
      " 4   platform  3000 non-null   object\n",
      " 5   label     3000 non-null   int64 \n",
      "dtypes: int64(3), object(3)\n",
      "memory usage: 140.8+ KB\n",
      "None\n"
     ]
    }
   ],
   "source": [
    "\n",
    "# 📌 Load\n",
    "df = pd.read_csv('../Data/raw_dataset.csv')\n",
    "print(df.head())\n",
    "print(df.info())\n"
   ]
  },
  {
   "cell_type": "code",
   "execution_count": 20,
   "id": "c774fe5e",
   "metadata": {},
   "outputs": [],
   "source": [
    "# 📌 Drop NULLs + Duplicates\n",
    "df = df.dropna(subset=['comment', 'label'])\n",
    "df = df.drop_duplicates(subset=['comment'])\n",
    "\n",
    "# 📌 Fix inconsistent\n",
    "df['platform'] = df['platform'].str.lower().str.strip()\n"
   ]
  },
  {
   "cell_type": "code",
   "execution_count": 21,
   "id": "8dc47118",
   "metadata": {},
   "outputs": [],
   "source": [
    "# 📌 Clean text\n",
    "def clean_text(text):\n",
    "    text = text.lower()\n",
    "    text = re.sub(r\"http\\S+|www\\S+\", \"\", text)\n",
    "    text = re.sub(r\"[^a-z\\s]\", \"\", text)\n",
    "    text = re.sub(r\"\\s+\", \" \", text).strip()\n",
    "    return text\n",
    "\n",
    "df['clean_comment'] = df['comment'].apply(clean_text)\n"
   ]
  },
  {
   "cell_type": "code",
   "execution_count": 22,
   "id": "30814d31",
   "metadata": {},
   "outputs": [],
   "source": [
    "# 📌 Length outliers\n",
    "df['comment_length'] = df['clean_comment'].apply(len)\n",
    "df = df[df['comment_length'] > 3]\n",
    "df = df[df['comment_length'] < 500]\n",
    "\n",
    "# 📌 Encode platform\n",
    "df['platform_encoded'] = LabelEncoder().fit_transform(df['platform'])\n",
    "\n",
    "df_final = df[['clean_comment', 'platform_encoded', 'label']]\n",
    "\n"
   ]
  },
  {
   "cell_type": "code",
   "execution_count": 24,
   "id": "e4f814ce",
   "metadata": {},
   "outputs": [
    {
     "name": "stdout",
     "output_type": "stream",
     "text": [
      "✅ Preprocessing complete & saved.\n",
      "Train: (12, 2) Test: (4, 2)\n"
     ]
    }
   ],
   "source": [
    "# 📌 Split\n",
    "X = df_final[['clean_comment', 'platform_encoded']]\n",
    "y = df_final['label']\n",
    "\n",
    "X_train, X_test, y_train, y_test = train_test_split(\n",
    "    X, y, test_size=0.2, stratify=y, random_state=42\n",
    ")\n",
    "\n",
    "X_train.to_csv('../Data/X_train.csv', index=False)\n",
    "X_test.to_csv('../Data/X_test.csv', index=False)\n",
    "y_train.to_csv('../Data/y_train.csv', index=False)\n",
    "y_test.to_csv('../Data/y_test.csv', index=False)\n",
    "\n",
    "print(\"✅ Preprocessing complete & saved.\")\n",
    "print(\"Train:\", X_train.shape, \"Test:\", X_test.shape)"
   ]
  }
 ],
 "metadata": {
  "kernelspec": {
   "display_name": "project_06",
   "language": "python",
   "name": "python3"
  },
  "language_info": {
   "codemirror_mode": {
    "name": "ipython",
    "version": 3
   },
   "file_extension": ".py",
   "mimetype": "text/x-python",
   "name": "python",
   "nbconvert_exporter": "python",
   "pygments_lexer": "ipython3",
   "version": "3.10.18"
  }
 },
 "nbformat": 4,
 "nbformat_minor": 5
}
