{
 "cells": [
  {
   "cell_type": "code",
   "execution_count": 10,
   "id": "ee3b735e",
   "metadata": {},
   "outputs": [],
   "source": [
    "# 📌 ⿡ IMPORTS\n",
    "# =======================================\n",
    "import pandas as pd\n",
    "import numpy as np\n",
    "from sklearn.model_selection import GridSearchCV\n",
    "from sklearn.metrics import classification_report, accuracy_score\n",
    "\n",
    "# ✅ Make sure X_train_final, y_train, X_test_final, y_test are in memory.\n",
    "# ✅ Or reload them:\n",
    "# X_train_final = ...\n",
    "# X_test_final = ...\n",
    "# y_train = ...\n",
    "# y_test = ...\n",
    "\n",
    "# Use TF-IDF features for training and testing\n",
    "X_train_final = X_train_tfidf\n",
    "X_test_final = X_test_tfidf\n"
   ]
  },
  {
   "cell_type": "code",
   "execution_count": 11,
   "id": "538e455a",
   "metadata": {},
   "outputs": [
    {
     "name": "stdout",
     "output_type": "stream",
     "text": [
      "✅ Best Params: {'C': 0.1, 'max_iter': 500, 'solver': 'lbfgs'}\n",
      "✅ Best CV Accuracy: 0.4333\n",
      "✅ Final Evaluation:\n",
      "              precision    recall  f1-score   support\n",
      "\n",
      "           0       0.00      0.00      0.00         2\n",
      "           1       0.33      0.50      0.40         2\n",
      "\n",
      "    accuracy                           0.25         4\n",
      "   macro avg       0.17      0.25      0.20         4\n",
      "weighted avg       0.17      0.25      0.20         4\n",
      "\n"
     ]
    }
   ],
   "source": [
    "# 📌 ⿢ Example: Tune Logistic Regression\n",
    "# =======================================\n",
    "\n",
    "from sklearn.linear_model import LogisticRegression\n",
    "\n",
    "param_grid = {\n",
    "    'C': [0.1, 1, 10],\n",
    "    'solver': ['lbfgs', 'liblinear'],\n",
    "    'max_iter': [500, 1000],\n",
    "}\n",
    "\n",
    "grid = GridSearchCV(LogisticRegression(class_weight='balanced'),\n",
    "                    param_grid, cv=3, scoring='accuracy')\n",
    "\n",
    "grid.fit(X_train_final, y_train)\n",
    "\n",
    "print(f\"✅ Best Params: {grid.best_params_}\")\n",
    "print(f\"✅ Best CV Accuracy: {grid.best_score_:.4f}\")\n",
    "\n",
    "y_pred = grid.predict(X_test_final)\n",
    "print(\"✅ Final Evaluation:\")\n",
    "print(classification_report(y_test, y_pred))"
   ]
  },
  {
   "cell_type": "code",
   "execution_count": 13,
   "id": "497a17a7",
   "metadata": {},
   "outputs": [
    {
     "name": "stdout",
     "output_type": "stream",
     "text": [
      "\n",
      "✅ RF Best Params: {'max_depth': None, 'n_estimators': 200}\n",
      "✅ RF Best CV Accuracy: 0.5444\n",
      "✅ RF Final Evaluation:\n",
      "              precision    recall  f1-score   support\n",
      "\n",
      "           0       0.00      0.00      0.00         2\n",
      "           1       0.50      1.00      0.67         2\n",
      "\n",
      "    accuracy                           0.50         4\n",
      "   macro avg       0.25      0.50      0.33         4\n",
      "weighted avg       0.25      0.50      0.33         4\n",
      "\n"
     ]
    },
    {
     "name": "stderr",
     "output_type": "stream",
     "text": [
      "c:\\Users\\shiva\\anaconda3\\envs\\project_06\\lib\\site-packages\\sklearn\\metrics\\_classification.py:1706: UndefinedMetricWarning: Precision is ill-defined and being set to 0.0 in labels with no predicted samples. Use `zero_division` parameter to control this behavior.\n",
      "  _warn_prf(average, modifier, f\"{metric.capitalize()} is\", result.shape[0])\n",
      "c:\\Users\\shiva\\anaconda3\\envs\\project_06\\lib\\site-packages\\sklearn\\metrics\\_classification.py:1706: UndefinedMetricWarning: Precision is ill-defined and being set to 0.0 in labels with no predicted samples. Use `zero_division` parameter to control this behavior.\n",
      "  _warn_prf(average, modifier, f\"{metric.capitalize()} is\", result.shape[0])\n",
      "c:\\Users\\shiva\\anaconda3\\envs\\project_06\\lib\\site-packages\\sklearn\\metrics\\_classification.py:1706: UndefinedMetricWarning: Precision is ill-defined and being set to 0.0 in labels with no predicted samples. Use `zero_division` parameter to control this behavior.\n",
      "  _warn_prf(average, modifier, f\"{metric.capitalize()} is\", result.shape[0])\n"
     ]
    }
   ],
   "source": [
    "# 📌 ⿣ Example: Tune Random Forest\n",
    "# =======================================\n",
    "\n",
    "from sklearn.ensemble import RandomForestClassifier\n",
    "\n",
    "param_grid_rf = {\n",
    "    'n_estimators': [50, 100, 200],\n",
    "    'max_depth': [None, 5, 10],\n",
    "}\n",
    "\n",
    "grid_rf = GridSearchCV(RandomForestClassifier(random_state=42),\n",
    "                       param_grid_rf, cv=3, scoring='accuracy')\n",
    "\n",
    "grid_rf.fit(X_train_final, y_train)\n",
    "\n",
    "print(f\"\\n✅ RF Best Params: {grid_rf.best_params_}\")\n",
    "print(f\"✅ RF Best CV Accuracy: {grid_rf.best_score_:.4f}\")\n",
    "\n",
    "rf_pred = grid_rf.predict(X_test_final)\n",
    "print(\"✅ RF Final Evaluation:\")\n",
    "print(classification_report(y_test, rf_pred))"
   ]
  }
 ],
 "metadata": {
  "kernelspec": {
   "display_name": "project_06",
   "language": "python",
   "name": "python3"
  },
  "language_info": {
   "codemirror_mode": {
    "name": "ipython",
    "version": 3
   },
   "file_extension": ".py",
   "mimetype": "text/x-python",
   "name": "python",
   "nbconvert_exporter": "python",
   "pygments_lexer": "ipython3",
   "version": "3.10.18"
  }
 },
 "nbformat": 4,
 "nbformat_minor": 5
}
