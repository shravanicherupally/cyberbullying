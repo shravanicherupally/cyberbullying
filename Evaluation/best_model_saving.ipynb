{
 "cells": [
  {
   "cell_type": "code",
   "execution_count": 15,
   "id": "da3a838e",
   "metadata": {},
   "outputs": [],
   "source": [
    "# 📌 ⿡ IMPORTS\n",
    "# =======================================\n",
    "import joblib\n"
   ]
  },
  {
   "cell_type": "code",
   "execution_count": 16,
   "id": "e42e91e5",
   "metadata": {},
   "outputs": [
    {
     "name": "stdout",
     "output_type": "stream",
     "text": [
      "✅ Best model is: Random Forest\n"
     ]
    }
   ],
   "source": [
    "# 📌 ⿢ SELECT BEST MODEL\n",
    "# =======================================\n",
    "# models = { \"name\": model } must exist!\n",
    "# scores = { \"name\": score } must exist!\n",
    "# vectorizer must exist!\n",
    "\n",
    "best_model_name = max(scores, key=lambda k: scores[k])\n",
    "best_model = models[best_model_name]\n",
    "\n",
    "print(f\"✅ Best model is: {best_model_name}\")\n"
   ]
  },
  {
   "cell_type": "code",
   "execution_count": 17,
   "id": "ec9d6958",
   "metadata": {},
   "outputs": [
    {
     "name": "stdout",
     "output_type": "stream",
     "text": [
      "✅ Best model & vectorizer saved to /App/model/\n"
     ]
    }
   ],
   "source": [
    "# 📌 ⿣ SAVE MODEL + VECTORIZER\n",
    "# =======================================\n",
    "joblib.dump(best_model, '../App/model/model.pkl')\n",
    "joblib.dump(vectorizer, '../App/model/vectorizer.pkl')\n",
    "\n",
    "print(\"✅ Best model & vectorizer saved to /App/model/\")"
   ]
  }
 ],
 "metadata": {
  "kernelspec": {
   "display_name": "project_06",
   "language": "python",
   "name": "python3"
  },
  "language_info": {
   "codemirror_mode": {
    "name": "ipython",
    "version": 3
   },
   "file_extension": ".py",
   "mimetype": "text/x-python",
   "name": "python",
   "nbconvert_exporter": "python",
   "pygments_lexer": "ipython3",
   "version": "3.10.18"
  }
 },
 "nbformat": 4,
 "nbformat_minor": 5
}
